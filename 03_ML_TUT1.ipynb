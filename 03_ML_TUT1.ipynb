{
  "nbformat": 4,
  "nbformat_minor": 0,
  "metadata": {
    "colab": {
      "name": "03_ML_TUT1.ipynb",
      "provenance": [],
      "authorship_tag": "ABX9TyPCUbbApKUoaEy2ZJezXHjp",
      "include_colab_link": true
    },
    "kernelspec": {
      "name": "python3",
      "display_name": "Python 3"
    },
    "language_info": {
      "name": "python"
    }
  },
  "cells": [
    {
      "cell_type": "markdown",
      "metadata": {
        "id": "view-in-github",
        "colab_type": "text"
      },
      "source": [
        "<a href=\"https://colab.research.google.com/github/KumarGaurav20/ML-HOMEWORK/blob/main/03_ML_TUT1.ipynb\" target=\"_parent\"><img src=\"https://colab.research.google.com/assets/colab-badge.svg\" alt=\"Open In Colab\"/></a>"
      ]
    },
    {
      "cell_type": "markdown",
      "metadata": {
        "id": "gdVqIhcLM6Vr"
      },
      "source": [
        "# Machine Learning Tutorial 01\n",
        "The following table shows the results of a recently conducted study on the correlation of the number of hours spent driving with the risk of developing acute backache. Find the equation of the best fit line for this data."
      ]
    },
    {
      "cell_type": "markdown",
      "metadata": {
        "id": "GPLEPXvJNFvV"
      },
      "source": [
        "## Instructions:\n",
        "\n",
        "\n",
        "\n",
        "1. Find independent variable and dependent variable in given dataset.\n",
        "2. Implement linear regression in Colab.\n",
        "3. Find regression line that best predicts value of dependent variable.\n",
        "4. Find SST, SSE, SSR and co-efficient of determination (R2).\n",
        "5. Explain pictorial relationship between SST, SSE, SSR.\n",
        "6. Decide whether regression equation is good fit or not for the given sample data"
      ]
    },
    {
      "cell_type": "markdown",
      "metadata": {
        "id": "P09cXflScZfQ"
      },
      "source": [
        "NOTEBOOK IMPORTS"
      ]
    },
    {
      "cell_type": "code",
      "metadata": {
        "id": "vusp-uixNhih"
      },
      "source": [
        "\n",
        "import pandas as pd\n",
        "from pandas import DataFrame\n",
        "import numpy as np\n",
        "\n",
        "import matplotlib.pyplot as plt\n",
        "\n",
        "from sklearn.linear_model import LinearRegression\n",
        "from sklearn.model_selection import train_test_split\n",
        "from sklearn import metrics\n",
        "\n",
        "%matplotlib inline"
      ],
      "execution_count": 3,
      "outputs": []
    },
    {
      "cell_type": "markdown",
      "metadata": {
        "id": "uzcZZOl7ghxP"
      },
      "source": [
        "Constants"
      ]
    },
    {
      "cell_type": "code",
      "metadata": {
        "id": "cKbOgRiagjOe"
      },
      "source": [
        "X_= 'No of hours driving'\n",
        "y_= 'Risk Score on a Scale of 0-100'"
      ],
      "execution_count": 4,
      "outputs": []
    },
    {
      "cell_type": "markdown",
      "metadata": {
        "id": "R7s3kadhf2Ez"
      },
      "source": [
        "## 1.READING DATA"
      ]
    },
    {
      "cell_type": "code",
      "metadata": {
        "colab": {
          "base_uri": "https://localhost:8080/",
          "height": 297
        },
        "id": "iiW9pllNdflF",
        "outputId": "b1e9099a-bd1d-4086-c7c9-04c1ef9c8e57"
      },
      "source": [
        "data = pd.read_csv('/content/ML_TUT1.csv')\n",
        "data"
      ],
      "execution_count": 5,
      "outputs": [
        {
          "output_type": "execute_result",
          "data": {
            "text/html": [
              "<div>\n",
              "<style scoped>\n",
              "    .dataframe tbody tr th:only-of-type {\n",
              "        vertical-align: middle;\n",
              "    }\n",
              "\n",
              "    .dataframe tbody tr th {\n",
              "        vertical-align: top;\n",
              "    }\n",
              "\n",
              "    .dataframe thead th {\n",
              "        text-align: right;\n",
              "    }\n",
              "</style>\n",
              "<table border=\"1\" class=\"dataframe\">\n",
              "  <thead>\n",
              "    <tr style=\"text-align: right;\">\n",
              "      <th></th>\n",
              "      <th>X</th>\n",
              "      <th>y</th>\n",
              "    </tr>\n",
              "  </thead>\n",
              "  <tbody>\n",
              "    <tr>\n",
              "      <th>0</th>\n",
              "      <td>10</td>\n",
              "      <td>95</td>\n",
              "    </tr>\n",
              "    <tr>\n",
              "      <th>1</th>\n",
              "      <td>9</td>\n",
              "      <td>80</td>\n",
              "    </tr>\n",
              "    <tr>\n",
              "      <th>2</th>\n",
              "      <td>2</td>\n",
              "      <td>10</td>\n",
              "    </tr>\n",
              "    <tr>\n",
              "      <th>3</th>\n",
              "      <td>15</td>\n",
              "      <td>50</td>\n",
              "    </tr>\n",
              "    <tr>\n",
              "      <th>4</th>\n",
              "      <td>10</td>\n",
              "      <td>45</td>\n",
              "    </tr>\n",
              "    <tr>\n",
              "      <th>5</th>\n",
              "      <td>16</td>\n",
              "      <td>98</td>\n",
              "    </tr>\n",
              "    <tr>\n",
              "      <th>6</th>\n",
              "      <td>11</td>\n",
              "      <td>38</td>\n",
              "    </tr>\n",
              "    <tr>\n",
              "      <th>7</th>\n",
              "      <td>16</td>\n",
              "      <td>93</td>\n",
              "    </tr>\n",
              "  </tbody>\n",
              "</table>\n",
              "</div>"
            ],
            "text/plain": [
              "    X   y\n",
              "0  10  95\n",
              "1   9  80\n",
              "2   2  10\n",
              "3  15  50\n",
              "4  10  45\n",
              "5  16  98\n",
              "6  11  38\n",
              "7  16  93"
            ]
          },
          "metadata": {},
          "execution_count": 5
        }
      ]
    },
    {
      "cell_type": "code",
      "metadata": {
        "colab": {
          "base_uri": "https://localhost:8080/",
          "height": 297
        },
        "id": "oYimUqqmeH-w",
        "outputId": "32fac1e0-bc88-4a3d-b71e-53d75c938806"
      },
      "source": [
        "data.describe()"
      ],
      "execution_count": 6,
      "outputs": [
        {
          "output_type": "execute_result",
          "data": {
            "text/html": [
              "<div>\n",
              "<style scoped>\n",
              "    .dataframe tbody tr th:only-of-type {\n",
              "        vertical-align: middle;\n",
              "    }\n",
              "\n",
              "    .dataframe tbody tr th {\n",
              "        vertical-align: top;\n",
              "    }\n",
              "\n",
              "    .dataframe thead th {\n",
              "        text-align: right;\n",
              "    }\n",
              "</style>\n",
              "<table border=\"1\" class=\"dataframe\">\n",
              "  <thead>\n",
              "    <tr style=\"text-align: right;\">\n",
              "      <th></th>\n",
              "      <th>X</th>\n",
              "      <th>y</th>\n",
              "    </tr>\n",
              "  </thead>\n",
              "  <tbody>\n",
              "    <tr>\n",
              "      <th>count</th>\n",
              "      <td>8.000000</td>\n",
              "      <td>8.000000</td>\n",
              "    </tr>\n",
              "    <tr>\n",
              "      <th>mean</th>\n",
              "      <td>11.125000</td>\n",
              "      <td>63.625000</td>\n",
              "    </tr>\n",
              "    <tr>\n",
              "      <th>std</th>\n",
              "      <td>4.673252</td>\n",
              "      <td>32.429869</td>\n",
              "    </tr>\n",
              "    <tr>\n",
              "      <th>min</th>\n",
              "      <td>2.000000</td>\n",
              "      <td>10.000000</td>\n",
              "    </tr>\n",
              "    <tr>\n",
              "      <th>25%</th>\n",
              "      <td>9.750000</td>\n",
              "      <td>43.250000</td>\n",
              "    </tr>\n",
              "    <tr>\n",
              "      <th>50%</th>\n",
              "      <td>10.500000</td>\n",
              "      <td>65.000000</td>\n",
              "    </tr>\n",
              "    <tr>\n",
              "      <th>75%</th>\n",
              "      <td>15.250000</td>\n",
              "      <td>93.500000</td>\n",
              "    </tr>\n",
              "    <tr>\n",
              "      <th>max</th>\n",
              "      <td>16.000000</td>\n",
              "      <td>98.000000</td>\n",
              "    </tr>\n",
              "  </tbody>\n",
              "</table>\n",
              "</div>"
            ],
            "text/plain": [
              "               X          y\n",
              "count   8.000000   8.000000\n",
              "mean   11.125000  63.625000\n",
              "std     4.673252  32.429869\n",
              "min     2.000000  10.000000\n",
              "25%     9.750000  43.250000\n",
              "50%    10.500000  65.000000\n",
              "75%    15.250000  93.500000\n",
              "max    16.000000  98.000000"
            ]
          },
          "metadata": {},
          "execution_count": 6
        }
      ]
    },
    {
      "cell_type": "markdown",
      "metadata": {
        "id": "5Za7XgbtgGAC"
      },
      "source": [
        "Determining which one is the dependent variable\n",
        "From the above dataset it is very well evident that 'y' is the dependent variable, since it is a score of how severe the pain can turn out to be after driving 'x' number of hours, therefore, it is safe to say that 'y' is dependent on 'x' and exhibits a linear relationship."
      ]
    },
    {
      "cell_type": "markdown",
      "metadata": {
        "id": "3xpxMmH4hJMO"
      },
      "source": [
        "## 2.Implementing Linear Relation"
      ]
    },
    {
      "cell_type": "code",
      "metadata": {
        "id": "u1MAENRdf6Yo"
      },
      "source": [
        "# Converting the columns into individual dataframes\n",
        "X = DataFrame(data, columns = ['X'])\n",
        "y = DataFrame(data, columns = ['y'])"
      ],
      "execution_count": 7,
      "outputs": []
    },
    {
      "cell_type": "code",
      "metadata": {
        "colab": {
          "base_uri": "https://localhost:8080/",
          "height": 297
        },
        "id": "VHsEkYBii5es",
        "outputId": "00d01011-a8be-44c0-e16f-13371af9d1ae"
      },
      "source": [
        "X"
      ],
      "execution_count": 8,
      "outputs": [
        {
          "output_type": "execute_result",
          "data": {
            "text/html": [
              "<div>\n",
              "<style scoped>\n",
              "    .dataframe tbody tr th:only-of-type {\n",
              "        vertical-align: middle;\n",
              "    }\n",
              "\n",
              "    .dataframe tbody tr th {\n",
              "        vertical-align: top;\n",
              "    }\n",
              "\n",
              "    .dataframe thead th {\n",
              "        text-align: right;\n",
              "    }\n",
              "</style>\n",
              "<table border=\"1\" class=\"dataframe\">\n",
              "  <thead>\n",
              "    <tr style=\"text-align: right;\">\n",
              "      <th></th>\n",
              "      <th>X</th>\n",
              "    </tr>\n",
              "  </thead>\n",
              "  <tbody>\n",
              "    <tr>\n",
              "      <th>0</th>\n",
              "      <td>10</td>\n",
              "    </tr>\n",
              "    <tr>\n",
              "      <th>1</th>\n",
              "      <td>9</td>\n",
              "    </tr>\n",
              "    <tr>\n",
              "      <th>2</th>\n",
              "      <td>2</td>\n",
              "    </tr>\n",
              "    <tr>\n",
              "      <th>3</th>\n",
              "      <td>15</td>\n",
              "    </tr>\n",
              "    <tr>\n",
              "      <th>4</th>\n",
              "      <td>10</td>\n",
              "    </tr>\n",
              "    <tr>\n",
              "      <th>5</th>\n",
              "      <td>16</td>\n",
              "    </tr>\n",
              "    <tr>\n",
              "      <th>6</th>\n",
              "      <td>11</td>\n",
              "    </tr>\n",
              "    <tr>\n",
              "      <th>7</th>\n",
              "      <td>16</td>\n",
              "    </tr>\n",
              "  </tbody>\n",
              "</table>\n",
              "</div>"
            ],
            "text/plain": [
              "    X\n",
              "0  10\n",
              "1   9\n",
              "2   2\n",
              "3  15\n",
              "4  10\n",
              "5  16\n",
              "6  11\n",
              "7  16"
            ]
          },
          "metadata": {},
          "execution_count": 8
        }
      ]
    },
    {
      "cell_type": "code",
      "metadata": {
        "colab": {
          "base_uri": "https://localhost:8080/",
          "height": 297
        },
        "id": "U5L2fDkWi6Ti",
        "outputId": "5085e642-fe82-465b-f0b4-763d0597aebc"
      },
      "source": [
        "y"
      ],
      "execution_count": 9,
      "outputs": [
        {
          "output_type": "execute_result",
          "data": {
            "text/html": [
              "<div>\n",
              "<style scoped>\n",
              "    .dataframe tbody tr th:only-of-type {\n",
              "        vertical-align: middle;\n",
              "    }\n",
              "\n",
              "    .dataframe tbody tr th {\n",
              "        vertical-align: top;\n",
              "    }\n",
              "\n",
              "    .dataframe thead th {\n",
              "        text-align: right;\n",
              "    }\n",
              "</style>\n",
              "<table border=\"1\" class=\"dataframe\">\n",
              "  <thead>\n",
              "    <tr style=\"text-align: right;\">\n",
              "      <th></th>\n",
              "      <th>y</th>\n",
              "    </tr>\n",
              "  </thead>\n",
              "  <tbody>\n",
              "    <tr>\n",
              "      <th>0</th>\n",
              "      <td>95</td>\n",
              "    </tr>\n",
              "    <tr>\n",
              "      <th>1</th>\n",
              "      <td>80</td>\n",
              "    </tr>\n",
              "    <tr>\n",
              "      <th>2</th>\n",
              "      <td>10</td>\n",
              "    </tr>\n",
              "    <tr>\n",
              "      <th>3</th>\n",
              "      <td>50</td>\n",
              "    </tr>\n",
              "    <tr>\n",
              "      <th>4</th>\n",
              "      <td>45</td>\n",
              "    </tr>\n",
              "    <tr>\n",
              "      <th>5</th>\n",
              "      <td>98</td>\n",
              "    </tr>\n",
              "    <tr>\n",
              "      <th>6</th>\n",
              "      <td>38</td>\n",
              "    </tr>\n",
              "    <tr>\n",
              "      <th>7</th>\n",
              "      <td>93</td>\n",
              "    </tr>\n",
              "  </tbody>\n",
              "</table>\n",
              "</div>"
            ],
            "text/plain": [
              "    y\n",
              "0  95\n",
              "1  80\n",
              "2  10\n",
              "3  50\n",
              "4  45\n",
              "5  98\n",
              "6  38\n",
              "7  93"
            ]
          },
          "metadata": {},
          "execution_count": 9
        }
      ]
    },
    {
      "cell_type": "markdown",
      "metadata": {
        "id": "q4cpCEoRi95A"
      },
      "source": [
        "VISUALIZATION"
      ]
    },
    {
      "cell_type": "code",
      "metadata": {
        "colab": {
          "base_uri": "https://localhost:8080/",
          "height": 404
        },
        "id": "nMXWc6tGi7Yu",
        "outputId": "195a3382-989f-469c-d9ae-a7beb53b3821"
      },
      "source": [
        "plt.figure(figsize=(10, 6))\n",
        "line= np.linspace(-1,18, 100)\n",
        "plt.title(' No of Hours Spent on Driving Vs Risk Scale Score')\n",
        "plt.plot(line, line)\n",
        "plt.scatter(X, y) \n",
        "plt.xlabel('X')\n",
        "plt.ylabel('y')\n",
        "plt.show()"
      ],
      "execution_count": 10,
      "outputs": [
        {
          "output_type": "display_data",
          "data": {
            "image/png": "[encoded data removed]",
            "text/plain": [
              "<Figure size 720x432 with 1 Axes>"
            ]
          },
          "metadata": {
            "needs_background": "light"
          }
        }
      ]
    },
    {
      "cell_type": "code",
      "metadata": {
        "id": "Q_9Si8h5jRv0"
      },
      "source": [
        "regr = LinearRegression()"
      ],
      "execution_count": 11,
      "outputs": []
    },
    {
      "cell_type": "code",
      "metadata": {
        "id": "UzMnABgpkpO2"
      },
      "source": [
        "X_train, X_test, y_train, y_test = train_test_split(X, y, test_size=0.2, random_state=101)"
      ],
      "execution_count": 12,
      "outputs": []
    },
    {
      "cell_type": "code",
      "metadata": {
        "colab": {
          "base_uri": "https://localhost:8080/"
        },
        "id": "YVOHUtF1k3zp",
        "outputId": "99afe518-b2b8-45d6-9be9-e172788d420d"
      },
      "source": [
        "regr.fit(X_train, y_train)"
      ],
      "execution_count": 13,
      "outputs": [
        {
          "output_type": "execute_result",
          "data": {
            "text/plain": [
              "LinearRegression(copy_X=True, fit_intercept=True, n_jobs=None, normalize=False)"
            ]
          },
          "metadata": {},
          "execution_count": 13
        }
      ]
    },
    {
      "cell_type": "code",
      "metadata": {
        "colab": {
          "base_uri": "https://localhost:8080/"
        },
        "id": "nPy2p09-lBWI",
        "outputId": "7133acd8-9056-4574-9add-e552dc2712bc"
      },
      "source": [
        "print(f'The regression coefecient is:{regr.coef_}')"
      ],
      "execution_count": 14,
      "outputs": [
        {
          "output_type": "stream",
          "name": "stdout",
          "text": [
            "The regression coefecient is:[[4.11803279]]\n"
          ]
        }
      ]
    },
    {
      "cell_type": "code",
      "metadata": {
        "colab": {
          "base_uri": "https://localhost:8080/"
        },
        "id": "NcDWlyXalQAP",
        "outputId": "9746081b-0bd4-4dbf-fe66-eddac5d59500"
      },
      "source": [
        "print(f'The regression intercept is:{regr.intercept_}')"
      ],
      "execution_count": 15,
      "outputs": [
        {
          "output_type": "stream",
          "name": "stdout",
          "text": [
            "The regression intercept is:[14.4852459]\n"
          ]
        }
      ]
    },
    {
      "cell_type": "markdown",
      "metadata": {
        "id": "U_5-8DCdlj-w"
      },
      "source": [
        "### 3.THE BEST LINE(REGR LINE)"
      ]
    },
    {
      "cell_type": "code",
      "metadata": {
        "colab": {
          "base_uri": "https://localhost:8080/",
          "height": 350
        },
        "id": "k0-VLdpflV4N",
        "outputId": "2f657b9b-414c-461d-f140-161af504e002"
      },
      "source": [
        "plt.figure(figsize=(10, 5))\n",
        "plt.title(' No of Hours Spent on Driving Vs Risk Scale Score')\n",
        "plt.scatter(X_train, y_train)\n",
        "plt.plot(X_train,regr.predict(X_train), color='aqua', linewidth=4)\n",
        "plt.xlabel('X')\n",
        "plt.ylabel('y')\n",
        "plt.show()"
      ],
      "execution_count": 16,
      "outputs": [
        {
          "output_type": "display_data",
          "data": {
            "image/png": "[encoded data removed]",
            "text/plain": [
              "<Figure size 720x360 with 1 Axes>"
            ]
          },
          "metadata": {
            "needs_background": "light"
          }
        }
      ]
    },
    {
      "cell_type": "markdown",
      "metadata": {
        "id": "j6q37zfNmmP1"
      },
      "source": [
        "##5. FINDIND SST, SSE, SSR and R2"
      ]
    },
    {
      "cell_type": "code",
      "metadata": {
        "colab": {
          "base_uri": "https://localhost:8080/",
          "height": 235
        },
        "id": "WatBFpoHl_1L",
        "outputId": "6b508126-03c0-4590-e3b3-386d6c6ecc9e"
      },
      "source": [
        "y_train"
      ],
      "execution_count": 17,
      "outputs": [
        {
          "output_type": "execute_result",
          "data": {
            "text/html": [
              "<div>\n",
              "<style scoped>\n",
              "    .dataframe tbody tr th:only-of-type {\n",
              "        vertical-align: middle;\n",
              "    }\n",
              "\n",
              "    .dataframe tbody tr th {\n",
              "        vertical-align: top;\n",
              "    }\n",
              "\n",
              "    .dataframe thead th {\n",
              "        text-align: right;\n",
              "    }\n",
              "</style>\n",
              "<table border=\"1\" class=\"dataframe\">\n",
              "  <thead>\n",
              "    <tr style=\"text-align: right;\">\n",
              "      <th></th>\n",
              "      <th>y</th>\n",
              "    </tr>\n",
              "  </thead>\n",
              "  <tbody>\n",
              "    <tr>\n",
              "      <th>5</th>\n",
              "      <td>98</td>\n",
              "    </tr>\n",
              "    <tr>\n",
              "      <th>4</th>\n",
              "      <td>45</td>\n",
              "    </tr>\n",
              "    <tr>\n",
              "      <th>6</th>\n",
              "      <td>38</td>\n",
              "    </tr>\n",
              "    <tr>\n",
              "      <th>1</th>\n",
              "      <td>80</td>\n",
              "    </tr>\n",
              "    <tr>\n",
              "      <th>3</th>\n",
              "      <td>50</td>\n",
              "    </tr>\n",
              "    <tr>\n",
              "      <th>7</th>\n",
              "      <td>93</td>\n",
              "    </tr>\n",
              "  </tbody>\n",
              "</table>\n",
              "</div>"
            ],
            "text/plain": [
              "    y\n",
              "5  98\n",
              "4  45\n",
              "6  38\n",
              "1  80\n",
              "3  50\n",
              "7  93"
            ]
          },
          "metadata": {},
          "execution_count": 17
        }
      ]
    },
    {
      "cell_type": "code",
      "metadata": {
        "colab": {
          "base_uri": "https://localhost:8080/"
        },
        "id": "mk7nXnmIm04p",
        "outputId": "23a9d6f1-cf8d-470f-94c9-166a61be7d92"
      },
      "source": [
        "mean = int(y.mean())\n",
        "y_list = np.reshape(y_train.to_numpy(), 6)\n",
        "\n",
        "sumSST = ((y_list - mean)**2).sum()\n",
        "\n",
        "print('The SST (Sum of Squares Total) for the above linear regession model is:', sumSST)"
      ],
      "execution_count": 18,
      "outputs": [
        {
          "output_type": "stream",
          "name": "stdout",
          "text": [
            "The SST (Sum of Squares Total) for the above linear regession model is: 3532\n"
          ]
        }
      ]
    },
    {
      "cell_type": "code",
      "metadata": {
        "colab": {
          "base_uri": "https://localhost:8080/"
        },
        "id": "ld-YshVQnFZf",
        "outputId": "bbe00110-360a-4b88-a917-6d9e8b00547a"
      },
      "source": [
        "mean = int(y.mean())\n",
        "\n",
        "predicted = regr.predict(X_test)\n",
        "predicted_reshaped = np.reshape(predicted, 2)\n",
        "\n",
        "sumSSR = int(((predicted_reshaped - mean)**2).sum())\n",
        "\n",
        "print('The SSR (Sum of Squares due to Regression) for the above linear regession model is:', sumSSR)"
      ],
      "execution_count": 19,
      "outputs": [
        {
          "output_type": "stream",
          "name": "stdout",
          "text": [
            "The SSR (Sum of Squares due to Regression) for the above linear regession model is: 1676\n"
          ]
        }
      ]
    },
    {
      "cell_type": "code",
      "metadata": {
        "colab": {
          "base_uri": "https://localhost:8080/"
        },
        "id": "wzCpl_YVnYp2",
        "outputId": "f0f78f40-6b81-43d0-c37f-a804eb105350"
      },
      "source": [
        "print('The SSR (Sum of Squares Error) for the above linear regession model is:', sumSST - sumSSR)"
      ],
      "execution_count": 20,
      "outputs": [
        {
          "output_type": "stream",
          "name": "stdout",
          "text": [
            "The SSR (Sum of Squares Error) for the above linear regession model is: 1856\n"
          ]
        }
      ]
    },
    {
      "cell_type": "code",
      "metadata": {
        "colab": {
          "base_uri": "https://localhost:8080/"
        },
        "id": "-gjA-k8ZngJV",
        "outputId": "9d2fb7b1-88f0-438b-cc93-94f46d96a320"
      },
      "source": [
        "r2 = 1 - (sumSSR/sumSST)\n",
        "print('The r^2 value for the above linear regression model calculated through the formula is:', r2)\n",
        "print('The r^2 value for the above linear regression model calculated through LinearRegression is:', metrics.r2_score(y_test, predicted_reshaped))"
      ],
      "execution_count": 21,
      "outputs": [
        {
          "output_type": "stream",
          "name": "stdout",
          "text": [
            "The r^2 value for the above linear regression model calculated through the formula is: 0.5254813137032843\n",
            "The r^2 value for the above linear regression model calculated through LinearRegression is: 0.5269124283850473\n"
          ]
        }
      ]
    },
    {
      "cell_type": "markdown",
      "metadata": {
        "id": "Q622YeJ5p_3J"
      },
      "source": [
        "##EVALUATIION"
      ]
    },
    {
      "cell_type": "code",
      "metadata": {
        "id": "WN7lGJJmnh5C",
        "outputId": "bd2ab34c-55b8-4646-f352-f88cb21056c6",
        "colab": {
          "base_uri": "https://localhost:8080/"
        }
      },
      "source": [
        "regr.score(X, y)"
      ],
      "execution_count": 22,
      "outputs": [
        {
          "output_type": "execute_result",
          "data": {
            "text/plain": [
              "0.42048450214956035"
            ]
          },
          "metadata": {},
          "execution_count": 22
        }
      ]
    },
    {
      "cell_type": "code",
      "metadata": {
        "id": "5YyIofoVqE8M",
        "outputId": "5f92a7bc-efb4-4590-a99e-1002bc680576",
        "colab": {
          "base_uri": "https://localhost:8080/"
        }
      },
      "source": [
        "print('The r2 score for the complete model turns out to be ~0.42, therefore, according to Falk and Miller the model score should be more than or equal to 0.10 for a successful model, thus, accordin to these researchers in 1902 our model is successful.If we were to consider Chin in 1998 who recommended that an r2 score of 0.33 or less renders a model moderate, then our model is rendered to be moderate in it\\'s results.')"
      ],
      "execution_count": 25,
      "outputs": [
        {
          "output_type": "stream",
          "name": "stdout",
          "text": [
            "The r2 score for the complete model turns out to be ~0.42, therefore, according to Falk and Miller the model score should be more than or equal to 0.10 for a successful model, thus, accordin to these researchers in 1902 our model is successful.If we were to consider Chin in 1998 who recommended that an r2 score of 0.33 or less renders a model moderate, then our model is rendered to be moderate in it's results.\n"
          ]
        }
      ]
    },
    {
      "cell_type": "code",
      "metadata": {
        "id": "-y3YZc5UqKE1"
      },
      "source": [
        ""
      ],
      "execution_count": null,
      "outputs": []
    }
  ]
}