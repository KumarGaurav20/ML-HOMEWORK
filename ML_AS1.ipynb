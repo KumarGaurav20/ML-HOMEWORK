{
  "nbformat": 4,
  "nbformat_minor": 0,
  "metadata": {
    "colab": {
      "name": "ML_AS1.ipynb",
      "provenance": [],
      "authorship_tag": "ABX9TyPY9CMUfIdVh6yGioQOhgDX",
      "include_colab_link": true
    },
    "kernelspec": {
      "name": "python3",
      "display_name": "Python 3"
    },
    "language_info": {
      "name": "python"
    },
    "widgets": {
      "application/vnd.jupyter.widget-state+json": {
        "bd712f4afb0f418db7dc1cdb3dd2176f": {
          "model_module": "@jupyter-widgets/controls",
          "model_name": "VBoxModel",
          "model_module_version": "1.5.0",
          "state": {
            "_view_name": "VBoxView",
            "_dom_classes": [
              "widget-interact"
            ],
            "_model_name": "VBoxModel",
            "_view_module": "@jupyter-widgets/controls",
            "_model_module_version": "1.5.0",
            "_view_count": null,
            "_view_module_version": "1.5.0",
            "box_style": "",
            "layout": "IPY_MODEL_9128c07e6c4f4620a95ddfe3dc7d364a",
            "_model_module": "@jupyter-widgets/controls",
            "children": [
              "IPY_MODEL_a0a6e38acdd145ccbe13c85da2d11b40",
              "IPY_MODEL_7385d258e4e8481f95798b0c1d9c5e25",
              "IPY_MODEL_e26f731d0ac746e4ac67a7a03bdae16d",
              "IPY_MODEL_95955deedf6c4b878910eba2a93e0d49"
            ]
          }
        },
        "9128c07e6c4f4620a95ddfe3dc7d364a": {
          "model_module": "@jupyter-widgets/base",
          "model_name": "LayoutModel",
          "model_module_version": "1.2.0",
          "state": {
            "_view_name": "LayoutView",
            "grid_template_rows": null,
            "right": null,
            "justify_content": null,
            "_view_module": "@jupyter-widgets/base",
            "overflow": null,
            "_model_module_version": "1.2.0",
            "_view_count": null,
            "flex_flow": null,
            "width": null,
            "min_width": null,
            "border": null,
            "align_items": null,
            "bottom": null,
            "_model_module": "@jupyter-widgets/base",
            "top": null,
            "grid_column": null,
            "overflow_y": null,
            "overflow_x": null,
            "grid_auto_flow": null,
            "grid_area": null,
            "grid_template_columns": null,
            "flex": null,
            "_model_name": "LayoutModel",
            "justify_items": null,
            "grid_row": null,
            "max_height": null,
            "align_content": null,
            "visibility": null,
            "align_self": null,
            "height": null,
            "min_height": null,
            "padding": null,
            "grid_auto_rows": null,
            "grid_gap": null,
            "max_width": null,
            "order": null,
            "_view_module_version": "1.2.0",
            "grid_template_areas": null,
            "object_position": null,
            "object_fit": null,
            "grid_auto_columns": null,
            "margin": null,
            "display": null,
            "left": null
          }
        },
        "a0a6e38acdd145ccbe13c85da2d11b40": {
          "model_module": "@jupyter-widgets/controls",
          "model_name": "DropdownModel",
          "model_module_version": "1.5.0",
          "state": {
            "_options_labels": [
              "Set1",
              "Set2",
              "Set3",
              "Paired",
              "Accent",
              "Pastel1",
              "Pastel2",
              "Dark2"
            ],
            "_view_name": "DropdownView",
            "style": "IPY_MODEL_9afdd03c3c6d4035ac8dee76f087e2e5",
            "_dom_classes": [],
            "description": "name",
            "_model_name": "DropdownModel",
            "index": 0,
            "_view_module": "@jupyter-widgets/controls",
            "_model_module_version": "1.5.0",
            "_view_count": null,
            "disabled": false,
            "_view_module_version": "1.5.0",
            "description_tooltip": null,
            "_model_module": "@jupyter-widgets/controls",
            "layout": "IPY_MODEL_73130dd74b8d43669b5a4b3da7431f7c"
          }
        },
        "7385d258e4e8481f95798b0c1d9c5e25": {
          "model_module": "@jupyter-widgets/controls",
          "model_name": "IntSliderModel",
          "model_module_version": "1.5.0",
          "state": {
            "_view_name": "IntSliderView",
            "style": "IPY_MODEL_2e54f87208394ba38268cb1dc8c0dd5d",
            "_dom_classes": [],
            "description": "n",
            "step": 1,
            "_model_name": "IntSliderModel",
            "orientation": "horizontal",
            "max": 16,
            "_view_module": "@jupyter-widgets/controls",
            "_model_module_version": "1.5.0",
            "value": 2,
            "_view_count": null,
            "disabled": false,
            "_view_module_version": "1.5.0",
            "min": 2,
            "continuous_update": true,
            "readout_format": "d",
            "description_tooltip": null,
            "readout": true,
            "_model_module": "@jupyter-widgets/controls",
            "layout": "IPY_MODEL_bb760e0f98144b78a6bb5b2983fbe0c8"
          }
        },
        "e26f731d0ac746e4ac67a7a03bdae16d": {
          "model_module": "@jupyter-widgets/controls",
          "model_name": "FloatSliderModel",
          "model_module_version": "1.5.0",
          "state": {
            "_view_name": "FloatSliderView",
            "style": "IPY_MODEL_84548b310a404c01a36522cc897c5379",
            "_dom_classes": [],
            "description": "desat",
            "step": 0.1,
            "_model_name": "FloatSliderModel",
            "orientation": "horizontal",
            "max": 1,
            "_view_module": "@jupyter-widgets/controls",
            "_model_module_version": "1.5.0",
            "value": 1,
            "_view_count": null,
            "disabled": false,
            "_view_module_version": "1.5.0",
            "min": 0,
            "continuous_update": true,
            "readout_format": ".2f",
            "description_tooltip": null,
            "readout": true,
            "_model_module": "@jupyter-widgets/controls",
            "layout": "IPY_MODEL_fbd2db9652274a57af023aac7e5e46fa"
          }
        },
        "95955deedf6c4b878910eba2a93e0d49": {
          "model_module": "@jupyter-widgets/output",
          "model_name": "OutputModel",
          "model_module_version": "1.0.0",
          "state": {
            "_view_name": "OutputView",
            "msg_id": "",
            "_dom_classes": [],
            "_model_name": "OutputModel",
            "outputs": [
              {
                "output_type": "display_data",
                "data": {
                  "image/png": "iVBORw0KGgoAAAANSUhEUgAAAIEAAABICAYAAADRR5YsAAAABHNCSVQICAgIfAhkiAAAAAlwSFlzAAALEgAACxIB0t1+/AAAADh0RVh0U29mdHdhcmUAbWF0cGxvdGxpYiB2ZXJzaW9uMy4yLjIsIGh0dHA6Ly9tYXRwbG90bGliLm9yZy+WH4yJAAABN0lEQVR4nO3dMUodQRzA4d883glEUwnxEB4lR0jraeziPTxFyjQ26QULQyAgFuMFnsWCy748v6+dXfgP+4PZbsacMz633dYDsD0RIAJEQCIgEVDtlzx8ttvNy/2iV/4rv8+vth5hNS/Pj73++zMOrS36opf7ffcXXz5mqiP07fvt1iOs5tfdzbtrjgNEgAhIBCQCEgGJgERAIiARkAhIBCQCEgGJgERAIiARkAhIBCQCEgGJgERAIiARkAhIBCQCEgGJgERAIiARkAhIBCQCEgGJgERAIiARkAhIBCQCEgGJgERAIiARkAhIBFRjyYXZY4y/1cN642zuvHraeoiVfJ1zXhxaWHq/3cOc8/oDBjpKY4yfp7y/9zgOEAHLI/ixyhTH49T3d9CiH0NOk+MAESACEgGJgOoNTY4k9SdEqw4AAAAASUVORK5CYII=\n",
                  "text/plain": "<Figure size 144x72 with 1 Axes>"
                },
                "metadata": {
                  "needs_background": "light"
                }
              }
            ],
            "_view_module": "@jupyter-widgets/output",
            "_model_module_version": "1.0.0",
            "_view_count": null,
            "_view_module_version": "1.0.0",
            "layout": "IPY_MODEL_cf129a0f0c2b4c60acbad53ef6ee7c65",
            "_model_module": "@jupyter-widgets/output"
          }
        },
        "9afdd03c3c6d4035ac8dee76f087e2e5": {
          "model_module": "@jupyter-widgets/controls",
          "model_name": "DescriptionStyleModel",
          "model_module_version": "1.5.0",
          "state": {
            "_view_name": "StyleView",
            "_model_name": "DescriptionStyleModel",
            "description_width": "",
            "_view_module": "@jupyter-widgets/base",
            "_model_module_version": "1.5.0",
            "_view_count": null,
            "_view_module_version": "1.2.0",
            "_model_module": "@jupyter-widgets/controls"
          }
        },
        "73130dd74b8d43669b5a4b3da7431f7c": {
          "model_module": "@jupyter-widgets/base",
          "model_name": "LayoutModel",
          "model_module_version": "1.2.0",
          "state": {
            "_view_name": "LayoutView",
            "grid_template_rows": null,
            "right": null,
            "justify_content": null,
            "_view_module": "@jupyter-widgets/base",
            "overflow": null,
            "_model_module_version": "1.2.0",
            "_view_count": null,
            "flex_flow": null,
            "width": null,
            "min_width": null,
            "border": null,
            "align_items": null,
            "bottom": null,
            "_model_module": "@jupyter-widgets/base",
            "top": null,
            "grid_column": null,
            "overflow_y": null,
            "overflow_x": null,
            "grid_auto_flow": null,
            "grid_area": null,
            "grid_template_columns": null,
            "flex": null,
            "_model_name": "LayoutModel",
            "justify_items": null,
            "grid_row": null,
            "max_height": null,
            "align_content": null,
            "visibility": null,
            "align_self": null,
            "height": null,
            "min_height": null,
            "padding": null,
            "grid_auto_rows": null,
            "grid_gap": null,
            "max_width": null,
            "order": null,
            "_view_module_version": "1.2.0",
            "grid_template_areas": null,
            "object_position": null,
            "object_fit": null,
            "grid_auto_columns": null,
            "margin": null,
            "display": null,
            "left": null
          }
        },
        "2e54f87208394ba38268cb1dc8c0dd5d": {
          "model_module": "@jupyter-widgets/controls",
          "model_name": "SliderStyleModel",
          "model_module_version": "1.5.0",
          "state": {
            "_view_name": "StyleView",
            "handle_color": null,
            "_model_name": "SliderStyleModel",
            "description_width": "",
            "_view_module": "@jupyter-widgets/base",
            "_model_module_version": "1.5.0",
            "_view_count": null,
            "_view_module_version": "1.2.0",
            "_model_module": "@jupyter-widgets/controls"
          }
        },
        "bb760e0f98144b78a6bb5b2983fbe0c8": {
          "model_module": "@jupyter-widgets/base",
          "model_name": "LayoutModel",
          "model_module_version": "1.2.0",
          "state": {
            "_view_name": "LayoutView",
            "grid_template_rows": null,
            "right": null,
            "justify_content": null,
            "_view_module": "@jupyter-widgets/base",
            "overflow": null,
            "_model_module_version": "1.2.0",
            "_view_count": null,
            "flex_flow": null,
            "width": null,
            "min_width": null,
            "border": null,
            "align_items": null,
            "bottom": null,
            "_model_module": "@jupyter-widgets/base",
            "top": null,
            "grid_column": null,
            "overflow_y": null,
            "overflow_x": null,
            "grid_auto_flow": null,
            "grid_area": null,
            "grid_template_columns": null,
            "flex": null,
            "_model_name": "LayoutModel",
            "justify_items": null,
            "grid_row": null,
            "max_height": null,
            "align_content": null,
            "visibility": null,
            "align_self": null,
            "height": null,
            "min_height": null,
            "padding": null,
            "grid_auto_rows": null,
            "grid_gap": null,
            "max_width": null,
            "order": null,
            "_view_module_version": "1.2.0",
            "grid_template_areas": null,
            "object_position": null,
            "object_fit": null,
            "grid_auto_columns": null,
            "margin": null,
            "display": null,
            "left": null
          }
        },
        "84548b310a404c01a36522cc897c5379": {
          "model_module": "@jupyter-widgets/controls",
          "model_name": "SliderStyleModel",
          "model_module_version": "1.5.0",
          "state": {
            "_view_name": "StyleView",
            "handle_color": null,
            "_model_name": "SliderStyleModel",
            "description_width": "",
            "_view_module": "@jupyter-widgets/base",
            "_model_module_version": "1.5.0",
            "_view_count": null,
            "_view_module_version": "1.2.0",
            "_model_module": "@jupyter-widgets/controls"
          }
        },
        "fbd2db9652274a57af023aac7e5e46fa": {
          "model_module": "@jupyter-widgets/base",
          "model_name": "LayoutModel",
          "model_module_version": "1.2.0",
          "state": {
            "_view_name": "LayoutView",
            "grid_template_rows": null,
            "right": null,
            "justify_content": null,
            "_view_module": "@jupyter-widgets/base",
            "overflow": null,
            "_model_module_version": "1.2.0",
            "_view_count": null,
            "flex_flow": null,
            "width": null,
            "min_width": null,
            "border": null,
            "align_items": null,
            "bottom": null,
            "_model_module": "@jupyter-widgets/base",
            "top": null,
            "grid_column": null,
            "overflow_y": null,
            "overflow_x": null,
            "grid_auto_flow": null,
            "grid_area": null,
            "grid_template_columns": null,
            "flex": null,
            "_model_name": "LayoutModel",
            "justify_items": null,
            "grid_row": null,
            "max_height": null,
            "align_content": null,
            "visibility": null,
            "align_self": null,
            "height": null,
            "min_height": null,
            "padding": null,
            "grid_auto_rows": null,
            "grid_gap": null,
            "max_width": null,
            "order": null,
            "_view_module_version": "1.2.0",
            "grid_template_areas": null,
            "object_position": null,
            "object_fit": null,
            "grid_auto_columns": null,
            "margin": null,
            "display": null,
            "left": null
          }
        },
        "cf129a0f0c2b4c60acbad53ef6ee7c65": {
          "model_module": "@jupyter-widgets/base",
          "model_name": "LayoutModel",
          "model_module_version": "1.2.0",
          "state": {
            "_view_name": "LayoutView",
            "grid_template_rows": null,
            "right": null,
            "justify_content": null,
            "_view_module": "@jupyter-widgets/base",
            "overflow": null,
            "_model_module_version": "1.2.0",
            "_view_count": null,
            "flex_flow": null,
            "width": null,
            "min_width": null,
            "border": null,
            "align_items": null,
            "bottom": null,
            "_model_module": "@jupyter-widgets/base",
            "top": null,
            "grid_column": null,
            "overflow_y": null,
            "overflow_x": null,
            "grid_auto_flow": null,
            "grid_area": null,
            "grid_template_columns": null,
            "flex": null,
            "_model_name": "LayoutModel",
            "justify_items": null,
            "grid_row": null,
            "max_height": null,
            "align_content": null,
            "visibility": null,
            "align_self": null,
            "height": null,
            "min_height": null,
            "padding": null,
            "grid_auto_rows": null,
            "grid_gap": null,
            "max_width": null,
            "order": null,
            "_view_module_version": "1.2.0",
            "grid_template_areas": null,
            "object_position": null,
            "object_fit": null,
            "grid_auto_columns": null,
            "margin": null,
            "display": null,
            "left": null
          }
        }
      }
    }
  },
  "cells": [
    {
      "cell_type": "markdown",
      "metadata": {
        "id": "view-in-github",
        "colab_type": "text"
      },
      "source": [
        "<a href=\"https://colab.research.google.com/github/KumarGaurav20/ML-HOMEWORK/blob/main/ML_AS1.ipynb\" target=\"_parent\"><img src=\"https://colab.research.google.com/assets/colab-badge.svg\" alt=\"Open In Colab\"/></a>"
      ]
    },
    {
      "cell_type": "code",
      "metadata": {
        "colab": {
          "base_uri": "https://localhost:8080/"
        },
        "id": "s8ZeH77hVnhy",
        "outputId": "dda9a201-7687-475f-b672-5cd53b95d91a"
      },
      "source": [
        "# Mounting google drive into our notebook\n",
        "from google.colab import drive\n",
        "\n",
        "drive.mount('/content/gdrive')"
      ],
      "execution_count": 1,
      "outputs": [
        {
          "output_type": "stream",
          "name": "stdout",
          "text": [
            "Mounted at /content/gdrive\n"
          ]
        }
      ]
    },
    {
      "cell_type": "markdown",
      "metadata": {
        "id": "PSJzmLfrWsyQ"
      },
      "source": [
        "# Linear Regression Project\n",
        "\n",
        "Congratulations! You just got some contract work with an Ecommerce company based in New York City that sells clothing online but they also have in-store style and clothing advice sessions. Customers come in to the store, have sessions/meetings with a personal stylist, then they can go home and order either on a mobile app or website for the clothes they want.\n",
        "\n",
        "The company is trying to decide whether to focus their efforts on their mobile app experience or their website. They've hired you on contract to help them figure it out! Let's get started!\n",
        "\n",
        "Just follow the steps below to analyze the customer data (it's fake, don't worry I didn't give you real credit card numbers or emails)."
      ]
    },
    {
      "cell_type": "code",
      "metadata": {
        "id": "CJ3P-C--VqcF"
      },
      "source": [
        "import pandas as pd\n",
        "import numpy as np\n",
        "import matplotlib.pyplot as plt\n",
        "import seaborn as sns\n",
        "%matplotlib inline\n",
        "from sklearn import model_selection"
      ],
      "execution_count": 3,
      "outputs": []
    },
    {
      "cell_type": "markdown",
      "metadata": {
        "id": "DKwaVhG1W8qn"
      },
      "source": [
        "## Get the Data\n",
        "\n",
        "We'll work with the Ecommerce Customers csv file from the company. It has Customer info, suchas Email, Address, and their color Avatar. Then it also has numerical value columns:\n",
        "\n",
        "* Avg. Session Length: Average session of in-store style advice sessions.\n",
        "* Time on App: Average time spent on App in minutes\n",
        "* Time on Website: Average time spent on Website in minutes\n",
        "* Length of Membership: How many years the customer has been a member. \n",
        "\n",
        "** Read in the Ecommerce Customers csv file as a DataFrame called customers.**\n"
      ]
    },
    {
      "cell_type": "code",
      "metadata": {
        "id": "v0DvAF9fW9QL"
      },
      "source": [
        "customer_data = pd.read_csv('/content/gdrive/MyDrive/COLAB DATA/Ecommerce Customers.csv')"
      ],
      "execution_count": 5,
      "outputs": []
    },
    {
      "cell_type": "markdown",
      "metadata": {
        "id": "fRTJWA9QXuO1"
      },
      "source": [
        "**Check the head of customers, and check out its info() and describe() methods.**"
      ]
    },
    {
      "cell_type": "code",
      "metadata": {
        "colab": {
          "base_uri": "https://localhost:8080/",
          "height": 606
        },
        "id": "nkcyW2tNXK-o",
        "outputId": "ed4d6f42-a08c-4d5f-c6ea-f990ceea47e7"
      },
      "source": [
        "customer_data"
      ],
      "execution_count": 6,
      "outputs": [
        {
          "output_type": "execute_result",
          "data": {
            "text/html": [
              "<div>\n",
              "<style scoped>\n",
              "    .dataframe tbody tr th:only-of-type {\n",
              "        vertical-align: middle;\n",
              "    }\n",
              "\n",
              "    .dataframe tbody tr th {\n",
              "        vertical-align: top;\n",
              "    }\n",
              "\n",
              "    .dataframe thead th {\n",
              "        text-align: right;\n",
              "    }\n",
              "</style>\n",
              "<table border=\"1\" class=\"dataframe\">\n",
              "  <thead>\n",
              "    <tr style=\"text-align: right;\">\n",
              "      <th></th>\n",
              "      <th>Email</th>\n",
              "      <th>Address</th>\n",
              "      <th>Avatar</th>\n",
              "      <th>Avg. Session Length</th>\n",
              "      <th>Time on App</th>\n",
              "      <th>Time on Website</th>\n",
              "      <th>Length of Membership</th>\n",
              "      <th>Yearly Amount Spent</th>\n",
              "    </tr>\n",
              "  </thead>\n",
              "  <tbody>\n",
              "    <tr>\n",
              "      <th>0</th>\n",
              "      <td>mstephenson@fernandez.com</td>\n",
              "      <td>835 Frank Tunnel\\nWrightmouth, MI 82180-9605</td>\n",
              "      <td>Violet</td>\n",
              "      <td>34.497268</td>\n",
              "      <td>12.655651</td>\n",
              "      <td>39.577668</td>\n",
              "      <td>4.082621</td>\n",
              "      <td>587.951054</td>\n",
              "    </tr>\n",
              "    <tr>\n",
              "      <th>1</th>\n",
              "      <td>hduke@hotmail.com</td>\n",
              "      <td>4547 Archer Common\\nDiazchester, CA 06566-8576</td>\n",
              "      <td>DarkGreen</td>\n",
              "      <td>31.926272</td>\n",
              "      <td>11.109461</td>\n",
              "      <td>37.268959</td>\n",
              "      <td>2.664034</td>\n",
              "      <td>392.204933</td>\n",
              "    </tr>\n",
              "    <tr>\n",
              "      <th>2</th>\n",
              "      <td>pallen@yahoo.com</td>\n",
              "      <td>24645 Valerie Unions Suite 582\\nCobbborough, D...</td>\n",
              "      <td>Bisque</td>\n",
              "      <td>33.000915</td>\n",
              "      <td>11.330278</td>\n",
              "      <td>37.110597</td>\n",
              "      <td>4.104543</td>\n",
              "      <td>487.547505</td>\n",
              "    </tr>\n",
              "    <tr>\n",
              "      <th>3</th>\n",
              "      <td>riverarebecca@gmail.com</td>\n",
              "      <td>1414 David Throughway\\nPort Jason, OH 22070-1220</td>\n",
              "      <td>SaddleBrown</td>\n",
              "      <td>34.305557</td>\n",
              "      <td>13.717514</td>\n",
              "      <td>36.721283</td>\n",
              "      <td>3.120179</td>\n",
              "      <td>581.852344</td>\n",
              "    </tr>\n",
              "    <tr>\n",
              "      <th>4</th>\n",
              "      <td>mstephens@davidson-herman.com</td>\n",
              "      <td>14023 Rodriguez Passage\\nPort Jacobville, PR 3...</td>\n",
              "      <td>MediumAquaMarine</td>\n",
              "      <td>33.330673</td>\n",
              "      <td>12.795189</td>\n",
              "      <td>37.536653</td>\n",
              "      <td>4.446308</td>\n",
              "      <td>599.406092</td>\n",
              "    </tr>\n",
              "    <tr>\n",
              "      <th>...</th>\n",
              "      <td>...</td>\n",
              "      <td>...</td>\n",
              "      <td>...</td>\n",
              "      <td>...</td>\n",
              "      <td>...</td>\n",
              "      <td>...</td>\n",
              "      <td>...</td>\n",
              "      <td>...</td>\n",
              "    </tr>\n",
              "    <tr>\n",
              "      <th>495</th>\n",
              "      <td>lewisjessica@craig-evans.com</td>\n",
              "      <td>4483 Jones Motorway Suite 872\\nLake Jamiefurt,...</td>\n",
              "      <td>Tan</td>\n",
              "      <td>33.237660</td>\n",
              "      <td>13.566160</td>\n",
              "      <td>36.417985</td>\n",
              "      <td>3.746573</td>\n",
              "      <td>573.847438</td>\n",
              "    </tr>\n",
              "    <tr>\n",
              "      <th>496</th>\n",
              "      <td>katrina56@gmail.com</td>\n",
              "      <td>172 Owen Divide Suite 497\\nWest Richard, CA 19320</td>\n",
              "      <td>PaleVioletRed</td>\n",
              "      <td>34.702529</td>\n",
              "      <td>11.695736</td>\n",
              "      <td>37.190268</td>\n",
              "      <td>3.576526</td>\n",
              "      <td>529.049004</td>\n",
              "    </tr>\n",
              "    <tr>\n",
              "      <th>497</th>\n",
              "      <td>dale88@hotmail.com</td>\n",
              "      <td>0787 Andrews Ranch Apt. 633\\nSouth Chadburgh, ...</td>\n",
              "      <td>Cornsilk</td>\n",
              "      <td>32.646777</td>\n",
              "      <td>11.499409</td>\n",
              "      <td>38.332576</td>\n",
              "      <td>4.958264</td>\n",
              "      <td>551.620145</td>\n",
              "    </tr>\n",
              "    <tr>\n",
              "      <th>498</th>\n",
              "      <td>cwilson@hotmail.com</td>\n",
              "      <td>680 Jennifer Lodge Apt. 808\\nBrendachester, TX...</td>\n",
              "      <td>Teal</td>\n",
              "      <td>33.322501</td>\n",
              "      <td>12.391423</td>\n",
              "      <td>36.840086</td>\n",
              "      <td>2.336485</td>\n",
              "      <td>456.469510</td>\n",
              "    </tr>\n",
              "    <tr>\n",
              "      <th>499</th>\n",
              "      <td>hannahwilson@davidson.com</td>\n",
              "      <td>49791 Rachel Heights Apt. 898\\nEast Drewboroug...</td>\n",
              "      <td>DarkMagenta</td>\n",
              "      <td>33.715981</td>\n",
              "      <td>12.418808</td>\n",
              "      <td>35.771016</td>\n",
              "      <td>2.735160</td>\n",
              "      <td>497.778642</td>\n",
              "    </tr>\n",
              "  </tbody>\n",
              "</table>\n",
              "<p>500 rows × 8 columns</p>\n",
              "</div>"
            ],
            "text/plain": [
              "                             Email  ... Yearly Amount Spent\n",
              "0        mstephenson@fernandez.com  ...          587.951054\n",
              "1                hduke@hotmail.com  ...          392.204933\n",
              "2                 pallen@yahoo.com  ...          487.547505\n",
              "3          riverarebecca@gmail.com  ...          581.852344\n",
              "4    mstephens@davidson-herman.com  ...          599.406092\n",
              "..                             ...  ...                 ...\n",
              "495   lewisjessica@craig-evans.com  ...          573.847438\n",
              "496            katrina56@gmail.com  ...          529.049004\n",
              "497             dale88@hotmail.com  ...          551.620145\n",
              "498            cwilson@hotmail.com  ...          456.469510\n",
              "499      hannahwilson@davidson.com  ...          497.778642\n",
              "\n",
              "[500 rows x 8 columns]"
            ]
          },
          "metadata": {},
          "execution_count": 6
        }
      ]
    },
    {
      "cell_type": "markdown",
      "metadata": {
        "id": "Dl2owRx8Ypqy"
      },
      "source": [
        "HEAD"
      ]
    },
    {
      "cell_type": "code",
      "metadata": {
        "colab": {
          "base_uri": "https://localhost:8080/",
          "height": 306
        },
        "id": "7so4IgZXY-d4",
        "outputId": "2d929bda-1500-4927-e843-42cb58fa3e9f"
      },
      "source": [
        "customer_data.head()"
      ],
      "execution_count": 7,
      "outputs": [
        {
          "output_type": "execute_result",
          "data": {
            "text/html": [
              "<div>\n",
              "<style scoped>\n",
              "    .dataframe tbody tr th:only-of-type {\n",
              "        vertical-align: middle;\n",
              "    }\n",
              "\n",
              "    .dataframe tbody tr th {\n",
              "        vertical-align: top;\n",
              "    }\n",
              "\n",
              "    .dataframe thead th {\n",
              "        text-align: right;\n",
              "    }\n",
              "</style>\n",
              "<table border=\"1\" class=\"dataframe\">\n",
              "  <thead>\n",
              "    <tr style=\"text-align: right;\">\n",
              "      <th></th>\n",
              "      <th>Email</th>\n",
              "      <th>Address</th>\n",
              "      <th>Avatar</th>\n",
              "      <th>Avg. Session Length</th>\n",
              "      <th>Time on App</th>\n",
              "      <th>Time on Website</th>\n",
              "      <th>Length of Membership</th>\n",
              "      <th>Yearly Amount Spent</th>\n",
              "    </tr>\n",
              "  </thead>\n",
              "  <tbody>\n",
              "    <tr>\n",
              "      <th>0</th>\n",
              "      <td>mstephenson@fernandez.com</td>\n",
              "      <td>835 Frank Tunnel\\nWrightmouth, MI 82180-9605</td>\n",
              "      <td>Violet</td>\n",
              "      <td>34.497268</td>\n",
              "      <td>12.655651</td>\n",
              "      <td>39.577668</td>\n",
              "      <td>4.082621</td>\n",
              "      <td>587.951054</td>\n",
              "    </tr>\n",
              "    <tr>\n",
              "      <th>1</th>\n",
              "      <td>hduke@hotmail.com</td>\n",
              "      <td>4547 Archer Common\\nDiazchester, CA 06566-8576</td>\n",
              "      <td>DarkGreen</td>\n",
              "      <td>31.926272</td>\n",
              "      <td>11.109461</td>\n",
              "      <td>37.268959</td>\n",
              "      <td>2.664034</td>\n",
              "      <td>392.204933</td>\n",
              "    </tr>\n",
              "    <tr>\n",
              "      <th>2</th>\n",
              "      <td>pallen@yahoo.com</td>\n",
              "      <td>24645 Valerie Unions Suite 582\\nCobbborough, D...</td>\n",
              "      <td>Bisque</td>\n",
              "      <td>33.000915</td>\n",
              "      <td>11.330278</td>\n",
              "      <td>37.110597</td>\n",
              "      <td>4.104543</td>\n",
              "      <td>487.547505</td>\n",
              "    </tr>\n",
              "    <tr>\n",
              "      <th>3</th>\n",
              "      <td>riverarebecca@gmail.com</td>\n",
              "      <td>1414 David Throughway\\nPort Jason, OH 22070-1220</td>\n",
              "      <td>SaddleBrown</td>\n",
              "      <td>34.305557</td>\n",
              "      <td>13.717514</td>\n",
              "      <td>36.721283</td>\n",
              "      <td>3.120179</td>\n",
              "      <td>581.852344</td>\n",
              "    </tr>\n",
              "    <tr>\n",
              "      <th>4</th>\n",
              "      <td>mstephens@davidson-herman.com</td>\n",
              "      <td>14023 Rodriguez Passage\\nPort Jacobville, PR 3...</td>\n",
              "      <td>MediumAquaMarine</td>\n",
              "      <td>33.330673</td>\n",
              "      <td>12.795189</td>\n",
              "      <td>37.536653</td>\n",
              "      <td>4.446308</td>\n",
              "      <td>599.406092</td>\n",
              "    </tr>\n",
              "  </tbody>\n",
              "</table>\n",
              "</div>"
            ],
            "text/plain": [
              "                           Email  ... Yearly Amount Spent\n",
              "0      mstephenson@fernandez.com  ...          587.951054\n",
              "1              hduke@hotmail.com  ...          392.204933\n",
              "2               pallen@yahoo.com  ...          487.547505\n",
              "3        riverarebecca@gmail.com  ...          581.852344\n",
              "4  mstephens@davidson-herman.com  ...          599.406092\n",
              "\n",
              "[5 rows x 8 columns]"
            ]
          },
          "metadata": {},
          "execution_count": 7
        }
      ]
    },
    {
      "cell_type": "markdown",
      "metadata": {
        "id": "ddKXlhEtYrJY"
      },
      "source": [
        "TAIL"
      ]
    },
    {
      "cell_type": "code",
      "metadata": {
        "colab": {
          "base_uri": "https://localhost:8080/",
          "height": 306
        },
        "id": "V7eUhkDMZB76",
        "outputId": "c3e2cc07-338d-4571-bb21-11cf6532b852"
      },
      "source": [
        "customer_data.tail()"
      ],
      "execution_count": 8,
      "outputs": [
        {
          "output_type": "execute_result",
          "data": {
            "text/html": [
              "<div>\n",
              "<style scoped>\n",
              "    .dataframe tbody tr th:only-of-type {\n",
              "        vertical-align: middle;\n",
              "    }\n",
              "\n",
              "    .dataframe tbody tr th {\n",
              "        vertical-align: top;\n",
              "    }\n",
              "\n",
              "    .dataframe thead th {\n",
              "        text-align: right;\n",
              "    }\n",
              "</style>\n",
              "<table border=\"1\" class=\"dataframe\">\n",
              "  <thead>\n",
              "    <tr style=\"text-align: right;\">\n",
              "      <th></th>\n",
              "      <th>Email</th>\n",
              "      <th>Address</th>\n",
              "      <th>Avatar</th>\n",
              "      <th>Avg. Session Length</th>\n",
              "      <th>Time on App</th>\n",
              "      <th>Time on Website</th>\n",
              "      <th>Length of Membership</th>\n",
              "      <th>Yearly Amount Spent</th>\n",
              "    </tr>\n",
              "  </thead>\n",
              "  <tbody>\n",
              "    <tr>\n",
              "      <th>495</th>\n",
              "      <td>lewisjessica@craig-evans.com</td>\n",
              "      <td>4483 Jones Motorway Suite 872\\nLake Jamiefurt,...</td>\n",
              "      <td>Tan</td>\n",
              "      <td>33.237660</td>\n",
              "      <td>13.566160</td>\n",
              "      <td>36.417985</td>\n",
              "      <td>3.746573</td>\n",
              "      <td>573.847438</td>\n",
              "    </tr>\n",
              "    <tr>\n",
              "      <th>496</th>\n",
              "      <td>katrina56@gmail.com</td>\n",
              "      <td>172 Owen Divide Suite 497\\nWest Richard, CA 19320</td>\n",
              "      <td>PaleVioletRed</td>\n",
              "      <td>34.702529</td>\n",
              "      <td>11.695736</td>\n",
              "      <td>37.190268</td>\n",
              "      <td>3.576526</td>\n",
              "      <td>529.049004</td>\n",
              "    </tr>\n",
              "    <tr>\n",
              "      <th>497</th>\n",
              "      <td>dale88@hotmail.com</td>\n",
              "      <td>0787 Andrews Ranch Apt. 633\\nSouth Chadburgh, ...</td>\n",
              "      <td>Cornsilk</td>\n",
              "      <td>32.646777</td>\n",
              "      <td>11.499409</td>\n",
              "      <td>38.332576</td>\n",
              "      <td>4.958264</td>\n",
              "      <td>551.620145</td>\n",
              "    </tr>\n",
              "    <tr>\n",
              "      <th>498</th>\n",
              "      <td>cwilson@hotmail.com</td>\n",
              "      <td>680 Jennifer Lodge Apt. 808\\nBrendachester, TX...</td>\n",
              "      <td>Teal</td>\n",
              "      <td>33.322501</td>\n",
              "      <td>12.391423</td>\n",
              "      <td>36.840086</td>\n",
              "      <td>2.336485</td>\n",
              "      <td>456.469510</td>\n",
              "    </tr>\n",
              "    <tr>\n",
              "      <th>499</th>\n",
              "      <td>hannahwilson@davidson.com</td>\n",
              "      <td>49791 Rachel Heights Apt. 898\\nEast Drewboroug...</td>\n",
              "      <td>DarkMagenta</td>\n",
              "      <td>33.715981</td>\n",
              "      <td>12.418808</td>\n",
              "      <td>35.771016</td>\n",
              "      <td>2.735160</td>\n",
              "      <td>497.778642</td>\n",
              "    </tr>\n",
              "  </tbody>\n",
              "</table>\n",
              "</div>"
            ],
            "text/plain": [
              "                            Email  ... Yearly Amount Spent\n",
              "495  lewisjessica@craig-evans.com  ...          573.847438\n",
              "496           katrina56@gmail.com  ...          529.049004\n",
              "497            dale88@hotmail.com  ...          551.620145\n",
              "498           cwilson@hotmail.com  ...          456.469510\n",
              "499     hannahwilson@davidson.com  ...          497.778642\n",
              "\n",
              "[5 rows x 8 columns]"
            ]
          },
          "metadata": {},
          "execution_count": 8
        }
      ]
    },
    {
      "cell_type": "markdown",
      "metadata": {
        "id": "Tarp4aZ6YsEC"
      },
      "source": [
        "INFO"
      ]
    },
    {
      "cell_type": "code",
      "metadata": {
        "colab": {
          "base_uri": "https://localhost:8080/"
        },
        "id": "ohOUyKeaZH0B",
        "outputId": "f3d8acb2-5b89-4983-cd0a-f661b3f8b03e"
      },
      "source": [
        "customer_data.info()"
      ],
      "execution_count": 9,
      "outputs": [
        {
          "output_type": "stream",
          "name": "stdout",
          "text": [
            "<class 'pandas.core.frame.DataFrame'>\n",
            "RangeIndex: 500 entries, 0 to 499\n",
            "Data columns (total 8 columns):\n",
            " #   Column                Non-Null Count  Dtype  \n",
            "---  ------                --------------  -----  \n",
            " 0   Email                 500 non-null    object \n",
            " 1   Address               500 non-null    object \n",
            " 2   Avatar                500 non-null    object \n",
            " 3   Avg. Session Length   500 non-null    float64\n",
            " 4   Time on App           500 non-null    float64\n",
            " 5   Time on Website       500 non-null    float64\n",
            " 6   Length of Membership  500 non-null    float64\n",
            " 7   Yearly Amount Spent   500 non-null    float64\n",
            "dtypes: float64(5), object(3)\n",
            "memory usage: 31.4+ KB\n"
          ]
        }
      ]
    },
    {
      "cell_type": "markdown",
      "metadata": {
        "id": "gxgPbCDIYt92"
      },
      "source": [
        "DESCRIBE"
      ]
    },
    {
      "cell_type": "code",
      "metadata": {
        "colab": {
          "base_uri": "https://localhost:8080/",
          "height": 297
        },
        "id": "sa3bVMW9XRs0",
        "outputId": "65d46ef9-3067-4fb6-906c-b1498bf33e20"
      },
      "source": [
        "customer_data.describe()"
      ],
      "execution_count": 13,
      "outputs": [
        {
          "output_type": "execute_result",
          "data": {
            "text/html": [
              "<div>\n",
              "<style scoped>\n",
              "    .dataframe tbody tr th:only-of-type {\n",
              "        vertical-align: middle;\n",
              "    }\n",
              "\n",
              "    .dataframe tbody tr th {\n",
              "        vertical-align: top;\n",
              "    }\n",
              "\n",
              "    .dataframe thead th {\n",
              "        text-align: right;\n",
              "    }\n",
              "</style>\n",
              "<table border=\"1\" class=\"dataframe\">\n",
              "  <thead>\n",
              "    <tr style=\"text-align: right;\">\n",
              "      <th></th>\n",
              "      <th>Avg. Session Length</th>\n",
              "      <th>Time on App</th>\n",
              "      <th>Time on Website</th>\n",
              "      <th>Length of Membership</th>\n",
              "      <th>Yearly Amount Spent</th>\n",
              "    </tr>\n",
              "  </thead>\n",
              "  <tbody>\n",
              "    <tr>\n",
              "      <th>count</th>\n",
              "      <td>500.000000</td>\n",
              "      <td>500.000000</td>\n",
              "      <td>500.000000</td>\n",
              "      <td>500.000000</td>\n",
              "      <td>500.000000</td>\n",
              "    </tr>\n",
              "    <tr>\n",
              "      <th>mean</th>\n",
              "      <td>33.053194</td>\n",
              "      <td>12.052488</td>\n",
              "      <td>37.060445</td>\n",
              "      <td>3.533462</td>\n",
              "      <td>499.314038</td>\n",
              "    </tr>\n",
              "    <tr>\n",
              "      <th>std</th>\n",
              "      <td>0.992563</td>\n",
              "      <td>0.994216</td>\n",
              "      <td>1.010489</td>\n",
              "      <td>0.999278</td>\n",
              "      <td>79.314782</td>\n",
              "    </tr>\n",
              "    <tr>\n",
              "      <th>min</th>\n",
              "      <td>29.532429</td>\n",
              "      <td>8.508152</td>\n",
              "      <td>33.913847</td>\n",
              "      <td>0.269901</td>\n",
              "      <td>256.670582</td>\n",
              "    </tr>\n",
              "    <tr>\n",
              "      <th>25%</th>\n",
              "      <td>32.341822</td>\n",
              "      <td>11.388153</td>\n",
              "      <td>36.349257</td>\n",
              "      <td>2.930450</td>\n",
              "      <td>445.038277</td>\n",
              "    </tr>\n",
              "    <tr>\n",
              "      <th>50%</th>\n",
              "      <td>33.082008</td>\n",
              "      <td>11.983231</td>\n",
              "      <td>37.069367</td>\n",
              "      <td>3.533975</td>\n",
              "      <td>498.887875</td>\n",
              "    </tr>\n",
              "    <tr>\n",
              "      <th>75%</th>\n",
              "      <td>33.711985</td>\n",
              "      <td>12.753850</td>\n",
              "      <td>37.716432</td>\n",
              "      <td>4.126502</td>\n",
              "      <td>549.313828</td>\n",
              "    </tr>\n",
              "    <tr>\n",
              "      <th>max</th>\n",
              "      <td>36.139662</td>\n",
              "      <td>15.126994</td>\n",
              "      <td>40.005182</td>\n",
              "      <td>6.922689</td>\n",
              "      <td>765.518462</td>\n",
              "    </tr>\n",
              "  </tbody>\n",
              "</table>\n",
              "</div>"
            ],
            "text/plain": [
              "       Avg. Session Length  ...  Yearly Amount Spent\n",
              "count           500.000000  ...           500.000000\n",
              "mean             33.053194  ...           499.314038\n",
              "std               0.992563  ...            79.314782\n",
              "min              29.532429  ...           256.670582\n",
              "25%              32.341822  ...           445.038277\n",
              "50%              33.082008  ...           498.887875\n",
              "75%              33.711985  ...           549.313828\n",
              "max              36.139662  ...           765.518462\n",
              "\n",
              "[8 rows x 5 columns]"
            ]
          },
          "metadata": {},
          "execution_count": 13
        }
      ]
    },
    {
      "cell_type": "markdown",
      "metadata": {
        "id": "KBuuoIQQZiZU"
      },
      "source": [
        "## VISUALIZING OUR DATA"
      ]
    },
    {
      "cell_type": "markdown",
      "metadata": {
        "id": "AnFEfMaNZiIF"
      },
      "source": [
        "**Use seaborn to create a jointplot to compare the Time on Website and Yearly Amount Spent columns. Does the correlation make sense?**"
      ]
    },
    {
      "cell_type": "markdown",
      "metadata": {
        "id": "8DGozJkpZ1bl"
      },
      "source": [
        "CREATING JOINTPLOT\n"
      ]
    },
    {
      "cell_type": "code",
      "metadata": {
        "colab": {
          "base_uri": "https://localhost:8080/",
          "height": 219,
          "referenced_widgets": [
            "bd712f4afb0f418db7dc1cdb3dd2176f",
            "9128c07e6c4f4620a95ddfe3dc7d364a",
            "a0a6e38acdd145ccbe13c85da2d11b40",
            "7385d258e4e8481f95798b0c1d9c5e25",
            "e26f731d0ac746e4ac67a7a03bdae16d",
            "95955deedf6c4b878910eba2a93e0d49",
            "9afdd03c3c6d4035ac8dee76f087e2e5",
            "73130dd74b8d43669b5a4b3da7431f7c",
            "2e54f87208394ba38268cb1dc8c0dd5d",
            "bb760e0f98144b78a6bb5b2983fbe0c8",
            "84548b310a404c01a36522cc897c5379",
            "fbd2db9652274a57af023aac7e5e46fa",
            "cf129a0f0c2b4c60acbad53ef6ee7c65"
          ]
        },
        "id": "tS__8aOTZMDY",
        "outputId": "fa7b5729-d0be-434d-c2b3-e9e57cfff6fe"
      },
      "source": [
        "print('\\tSelect the color pallete\\n')\n",
        "c_map= sns.choose_colorbrewer_palette('q') "
      ],
      "execution_count": 47,
      "outputs": [
        {
          "output_type": "stream",
          "name": "stdout",
          "text": [
            "\tSelect the color pallete\n",
            "\n"
          ]
        },
        {
          "output_type": "display_data",
          "data": {
            "application/vnd.jupyter.widget-view+json": {
              "model_id": "bd712f4afb0f418db7dc1cdb3dd2176f",
              "version_minor": 0,
              "version_major": 2
            },
            "text/plain": [
              "interactive(children=(Dropdown(description='name', options=('Set1', 'Set2', 'Set3', 'Paired', 'Accent', 'Paste…"
            ]
          },
          "metadata": {}
        }
      ]
    },
    {
      "cell_type": "code",
      "metadata": {
        "colab": {
          "base_uri": "https://localhost:8080/",
          "height": 458
        },
        "id": "fZSmbQgUdIlP",
        "outputId": "eabdfd7a-5731-4e63-b2d9-b740d357bbc3"
      },
      "source": [
        "sns.jointplot(x='Time on App',y='Yearly Amount Spent',data=customer_data, color='navy', alpha=0.3)"
      ],
      "execution_count": 55,
      "outputs": [
        {
          "output_type": "execute_result",
          "data": {
            "text/plain": [
              "<seaborn.axisgrid.JointGrid at 0x7f0ec53a6c90>"
            ]
          },
          "metadata": {},
          "execution_count": 55
        },
        {
          "output_type": "display_data",
          "data": {
            "image/png": "[encoded data removed]",
            "text/plain": [
              "<Figure size 432x432 with 3 Axes>"
            ]
          },
          "metadata": {
            "needs_background": "light"
          }
        }
      ]
    },
    {
      "cell_type": "markdown",
      "metadata": {
        "id": "fGiZd_t9aZ8S"
      },
      "source": [
        "Jointplot is used to visualize our data as it's a seaborn library specific and can be used to quickly visualize and analyze the relationship between two variables and describe their individual distributions on the same plot. \n",
        "\n",
        "**CONCLUSION:** The features time and data are distrubuted somewhat as a normal distribution. Also "
      ]
    },
    {
      "cell_type": "markdown",
      "metadata": {
        "id": "Ey-s6ZE4fBmG"
      },
      "source": [
        "**CHECKING THE REG LINE AND DISTRIBUTION CURVE**"
      ]
    },
    {
      "cell_type": "code",
      "metadata": {
        "colab": {
          "base_uri": "https://localhost:8080/",
          "height": 458
        },
        "id": "rppCGp3CZ43K",
        "outputId": "b51442a3-776a-4ebc-9613-9f289959e905"
      },
      "source": [
        "sns.jointplot(x='Time on App',y='Yearly Amount Spent',data=customer_data, color='navy', kind='reg')"
      ],
      "execution_count": 57,
      "outputs": [
        {
          "output_type": "execute_result",
          "data": {
            "text/plain": [
              "<seaborn.axisgrid.JointGrid at 0x7f0ec5922450>"
            ]
          },
          "metadata": {},
          "execution_count": 57
        },
        {
          "output_type": "display_data",
          "data": {
            "image/png": "[encoded data removed]",
            "text/plain": [
              "<Figure size 432x432 with 3 Axes>"
            ]
          },
          "metadata": {
            "needs_background": "light"
          }
        }
      ]
    },
    {
      "cell_type": "code",
      "metadata": {
        "id": "6sSZhN2efsz6"
      },
      "source": [
        ""
      ],
      "execution_count": null,
      "outputs": []
    }
  ]
}